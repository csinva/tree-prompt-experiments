{
 "cells": [
  {
   "cell_type": "code",
   "execution_count": null,
   "metadata": {},
   "outputs": [],
   "source": [
    "%load_ext autoreload\n",
    "%autoreload 2\n",
    "import numpy as np\n",
    "from copy import deepcopy\n",
    "import sys\n",
    "import datasets\n",
    "import imodelsx.metrics\n",
    "import matplotlib.pyplot as plt\n",
    "import numpy as np\n",
    "sys.path.append('../experiments/')\n",
    "import os\n",
    "import pandas as pd\n",
    "import numpy as np\n",
    "import transformers\n",
    "import sys\n",
    "from os.path import join\n",
    "import datasets\n",
    "from typing import Dict, List\n",
    "from dict_hash import sha256\n",
    "import numpy as np"
   ]
  },
  {
   "cell_type": "code",
   "execution_count": null,
   "metadata": {},
   "outputs": [],
   "source": [
    "from transformers import AutoTokenizer, AutoModelForCausalLM\n",
    "checkpoint = 'gpt2'\n",
    "m = AutoModelForCausalLM.from_pretrained(checkpoint)"
   ]
  },
  {
   "cell_type": "code",
   "execution_count": null,
   "metadata": {},
   "outputs": [],
   "source": [
    "dset_train = datasets.load_dataset('rotten_tomatoes')['train']\n",
    "dset_train = dset_train.select(np.random.choice(\n",
    "    len(dset_train), size=100, replace=False))"
   ]
  },
  {
   "cell_type": "code",
   "execution_count": null,
   "metadata": {},
   "outputs": [],
   "source": [
    "from torch.autograd import grad\n",
    "import torch\n",
    "import torch\n",
    "from torch.autograd.functional import jacobian\n",
    "from torch.func import jacfwd\n",
    "\n",
    "# Load pre-trained GPT-2 model\n",
    "model_name = 'gpt2'\n",
    "model = AutoModelForCausalLM.from_pretrained(model_name)\n",
    "model.eval()\n",
    "\n",
    "\n",
    "def forward_embs(embs):\n",
    "    output = model(inputs_embeds=embs)\n",
    "    return output.logits\n",
    "\n",
    "\n",
    "# Input text example\n",
    "input_text = \"Example\"\n",
    "\n",
    "# Tokenize and obtain model output\n",
    "tokenizer = AutoTokenizer.from_pretrained(model_name)\n",
    "input_ids = tokenizer.encode(input_text, return_tensors=\"pt\")\n",
    "input_embs = model.transformer.wte(input_ids)\n",
    "# output = model(inputs_embeds=input_embs)"
   ]
  },
  {
   "cell_type": "code",
   "execution_count": null,
   "metadata": {},
   "outputs": [],
   "source": [
    "input_embs = input_embs.to('cuda')\n",
    "model = model.to('cuda')"
   ]
  },
  {
   "cell_type": "code",
   "execution_count": null,
   "metadata": {},
   "outputs": [],
   "source": [
    "def forward_embs(embs):\n",
    "    # torch.zeros(1, 6, 768).shape\n",
    "    output = model(inputs_embeds=embs)\n",
    "    return output.logits"
   ]
  },
  {
   "cell_type": "code",
   "execution_count": null,
   "metadata": {},
   "outputs": [],
   "source": [
    "# jac = jacobian(\n",
    "# forward_embs, input_embs, strategy='forward-mode', vectorize=True)\n",
    "jac = jacfwd(forward_embs)(input_embs)\n",
    "jac = jac.squeeze()"
   ]
  },
  {
   "cell_type": "code",
   "execution_count": null,
   "metadata": {},
   "outputs": [],
   "source": [
    "jac.shape"
   ]
  },
  {
   "cell_type": "code",
   "execution_count": null,
   "metadata": {},
   "outputs": [],
   "source": [
    "jac_input = jac @ model.transformer.wte.weight.T  # output x input\n",
    "jac_input.device"
   ]
  },
  {
   "cell_type": "code",
   "execution_count": null,
   "metadata": {},
   "outputs": [],
   "source": [
    "jac_input = jac_input.cpu().detach().numpy()"
   ]
  },
  {
   "cell_type": "code",
   "execution_count": 32,
   "metadata": {},
   "outputs": [
    {
     "data": {
      "text/plain": [
       "array([[-1.8717968 ,  0.37471896, -1.5080535 ],\n",
       "       [-2.5702996 ,  0.63906926, -1.5047908 ],\n",
       "       [-2.5230765 ,  0.21229628, -0.16100714]], dtype=float32)"
      ]
     },
     "execution_count": 32,
     "metadata": {},
     "output_type": "execute_result"
    }
   ],
   "source": [
    "jac_input[:3, :3]"
   ]
  },
  {
   "cell_type": "code",
   "execution_count": null,
   "metadata": {},
   "outputs": [],
   "source": [
    "plt.imshow(jac_input)"
   ]
  },
  {
   "cell_type": "markdown",
   "metadata": {},
   "source": [
    "# Take multi-dimensional grad"
   ]
  },
  {
   "cell_type": "code",
   "execution_count": null,
   "metadata": {},
   "outputs": [],
   "source": [
    "# Define the input tensor\n",
    "x = torch.tensor(torch.normal(0, 1, size=(1, 5)), requires_grad=True)\n",
    "\n",
    "# Compute the output of the function\n",
    "param = torch.ones(5, 4)\n",
    "param[0, :] = 2\n",
    "\n",
    "\n",
    "def f(x):\n",
    "    return x @ param\n",
    "\n",
    "\n",
    "# Compute the gradient of y with respect to x\n",
    "# gradient = torch.autograd.grad(y, x, torch.ones_like(y))[0]\n",
    "# gradient = jacobian(f, x)[0]\n",
    "gradient = jacfwd(f)(x)\n",
    "\n",
    "print(\"Input x:\", x)\n",
    "print(\"Output y:\", f(x))\n",
    "print(\"Jacob dy/dx:\", gradient)"
   ]
  }
 ],
 "metadata": {
  "kernelspec": {
   "display_name": ".llm",
   "language": "python",
   "name": "python3"
  },
  "language_info": {
   "codemirror_mode": {
    "name": "ipython",
    "version": 3
   },
   "file_extension": ".py",
   "mimetype": "text/x-python",
   "name": "python",
   "nbconvert_exporter": "python",
   "pygments_lexer": "ipython3",
   "version": "3.11.6"
  },
  "orig_nbformat": 4,
  "vscode": {
   "interpreter": {
    "hash": "a9ff692d44ea03fd8a03facee7621117bbbb82def09bacaacf0a2cbc238b7b91"
   }
  }
 },
 "nbformat": 4,
 "nbformat_minor": 2
}
