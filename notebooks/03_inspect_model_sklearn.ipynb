{
 "cells": [
  {
   "cell_type": "code",
   "execution_count": null,
   "metadata": {},
   "outputs": [],
   "source": [
    "%load_ext autoreload\n",
    "%autoreload 2\n",
    "%config InlineBackend.figure_format = 'retina' # Make visualizations look good\n",
    "%matplotlib inline\n",
    "#%config InlineBackend.figure_format = 'svg' \n",
    "import os\n",
    "import matplotlib.pyplot as plt\n",
    "import seaborn as sns\n",
    "from os.path import join\n",
    "from tqdm import tqdm\n",
    "import pandas as pd\n",
    "import pickle as pkl\n",
    "# import dtreeviz\n",
    "import imodelsx.process_results\n",
    "from sklearn.tree import plot_tree\n",
    "import sys\n",
    "import pybaobabdt\n",
    "import numpy as np\n",
    "import viz\n",
    "# import llm_tree.data\n",
    "import imodelsx\n",
    "import sklearn.tree\n",
    "sys.path.append('../experiments/')\n",
    "results_dir = '/home/jxm3/research/prompting/tree-prompt/results/tree-prompt/may16/gpt2/'\n",
    "\n",
    "r = imodelsx.process_results.get_results_df(results_dir, use_cached=True)\n",
    "r = r[r.seed == 1]"
   ]
  },
  {
   "cell_type": "code",
   "execution_count": null,
   "metadata": {},
   "outputs": [],
   "source": [
    "# select a single model\n",
    "rd = r\n",
    "dataset_name = 'emotion'\n",
    "# dataset_name = 'rotten_tomatoes'\n",
    "rd = rd[rd.dataset_name == dataset_name]\n",
    "rd = rd[rd.model_name == 'manual_tree']\n",
    "rd = rd[rd.checkpoint == 'EleutherAI/gpt-j-6B']\n",
    "rd = rd[rd.verbalizer_num == 0]\n",
    "rd = rd[rd.prompt_source == 'manual']\n",
    "rd = rd[rd.num_prompts == 10]\n",
    "# print(rd.num_prompts)\n",
    "run_args = rd.iloc[0]\n",
    "model_name = run_args.model_name\n",
    "\n",
    "# load the model\n",
    "print('acc', run_args.accuracy_test, 'depth', run_args.max_depth, 'dset', run_args.dataset_name)\n",
    "model = pkl.load(open(join(run_args.save_dir_unique, 'model.pkl'), 'rb'))\n",
    "dt = model\n",
    "feature_names = run_args.feature_names\n",
    "feat_names = ['\\n'.join(n.split(',')) for n in feature_names]"
   ]
  },
  {
   "cell_type": "code",
   "execution_count": null,
   "metadata": {},
   "outputs": [],
   "source": [
    "# plot baobab\n",
    "def colors(x):\n",
    "    if x == 0:\n",
    "        return 'red'\n",
    "    else:\n",
    "        return 'blue'\n",
    "CLASSES = {\n",
    "    'emotion': [b'Sad', b'Happy', b'Love', b'Anger', b'Fear', b'Surprise'],\n",
    "}\n",
    "# kwargs = {\n",
    "#     'colormap': colors,\n",
    "#     'custom_threshold': ['neg', 'pos'],\n",
    "# }\n",
    "dt.classes_ = CLASSES.get(dataset_name, [b'Negative', b'Positive'])\n",
    "kwargs = {}\n",
    "\n",
    "VERB_EMOTION_0 = {0: ' Sad.', 1: ' Happy.', 2: ' Love.', 3: ' Anger.', 4: ' Fear.', 5: ' Surprise.'}\n",
    "if dataset_name == 'emotion':\n",
    "    feats = feat_names\n",
    "    for k in VERB_EMOTION_0:\n",
    "        feats = [x.replace(f'_{k}.0', VERB_EMOTION_0[k]) for x in feats]\n",
    "else:\n",
    "    feats = feat_names\n",
    "\n",
    "ax = pybaobabdt.drawTree(\n",
    "    dt, figsize=(16, 10), dpi=300, ratio=0.55,\n",
    "    features=feats,\n",
    "    show_thresholds=False,\n",
    "    **kwargs\n",
    ")\n",
    "plt.savefig(f'tree_{dataset_name}_bao.pdf', bbox_inches='tight')"
   ]
  },
  {
   "cell_type": "code",
   "execution_count": null,
   "metadata": {},
   "outputs": [],
   "source": [
    "# plot sklearn tree\n",
    "plt.figure(figsize=(8.5, 4.25))\n",
    "sklearn.tree.plot_tree(dt, feature_names=feat_names, class_names=['neg', 'pos'],\n",
    "                        impurity=False,\n",
    "                        precision=2, rounded=True, proportion=True, filled=True, fontsize=5)\n",
    "plt.savefig(f'tree_{dataset_name}.pdf')\n",
    "plt.show()"
   ]
  },
  {
   "cell_type": "code",
   "execution_count": null,
   "metadata": {},
   "outputs": [],
   "source": []
  }
 ],
 "metadata": {
  "kernelspec": {
   "display_name": "Python 3 (ipykernel)",
   "language": "python",
   "name": "python3"
  },
  "language_info": {
   "codemirror_mode": {
    "name": "ipython",
    "version": 3
   },
   "file_extension": ".py",
   "mimetype": "text/x-python",
   "name": "python",
   "nbconvert_exporter": "python",
   "pygments_lexer": "ipython3",
   "version": "3.10.10"
  },
  "vscode": {
   "interpreter": {
    "hash": "a9ff692d44ea03fd8a03facee7621117bbbb82def09bacaacf0a2cbc238b7b91"
   }
  }
 },
 "nbformat": 4,
 "nbformat_minor": 4
}
