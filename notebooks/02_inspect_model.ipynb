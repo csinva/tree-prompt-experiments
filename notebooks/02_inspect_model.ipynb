{
 "cells": [
  {
   "cell_type": "code",
   "execution_count": 1,
   "metadata": {},
   "outputs": [],
   "source": [
    "%load_ext autoreload\n",
    "%autoreload 2\n",
    "%config InlineBackend.figure_format = 'retina' # Make visualizations look good\n",
    "%matplotlib inline\n",
    "#%config InlineBackend.figure_format = 'svg' \n",
    "import os\n",
    "import matplotlib.pyplot as plt\n",
    "import seaborn as sns\n",
    "from os.path import join\n",
    "from tqdm import tqdm\n",
    "import pandas as pd\n",
    "import pickle as pkl\n",
    "import dtreeviz\n",
    "import imodelsx.process_results\n",
    "from sklearn.tree import plot_tree\n",
    "import sys\n",
    "import numpy as np\n",
    "import viz\n",
    "# import llm_tree.data\n",
    "import imodelsx\n",
    "import sklearn.tree\n",
    "sys.path.append('../experiments/')"
   ]
  },
  {
   "cell_type": "code",
   "execution_count": 2,
   "metadata": {},
   "outputs": [
    {
     "name": "stderr",
     "output_type": "stream",
     "text": [
      "100%|████████████████████████████████████████████████████████████████████████████████████████████████████████████████████████████████████████████████████| 2/2 [00:00<00:00, 592.04it/s]\n"
     ]
    }
   ],
   "source": [
    "# results_dir = '/home/jxm3/research/prompting/tree-prompt/results/tree-prompt/jun4-fixed'\n",
    "results_dir = '/home/jxm3/research/prompting/tree-prompt/results/tree-prompt/jun22-rt-2'\n",
    "# cache_prompt_features_dir = '/home/jxm3/research/prompting/tree-prompt/cache_prompt_features'\n",
    "\n",
    "r = imodelsx.process_results.get_results_df(results_dir, use_cached=False)"
   ]
  },
  {
   "cell_type": "code",
   "execution_count": 3,
   "metadata": {},
   "outputs": [
    {
     "data": {
      "text/plain": [
       "max_depth\n",
       "4    1\n",
       "2    1\n",
       "Name: count, dtype: int64"
      ]
     },
     "execution_count": 3,
     "metadata": {},
     "output_type": "execute_result"
    }
   ],
   "source": [
    "r['max_depth'].value_counts()"
   ]
  },
  {
   "cell_type": "code",
   "execution_count": 4,
   "metadata": {},
   "outputs": [
    {
     "data": {
      "text/html": [
       "<div>\n",
       "<style scoped>\n",
       "    .dataframe tbody tr th:only-of-type {\n",
       "        vertical-align: middle;\n",
       "    }\n",
       "\n",
       "    .dataframe tbody tr th {\n",
       "        vertical-align: top;\n",
       "    }\n",
       "\n",
       "    .dataframe thead th {\n",
       "        text-align: right;\n",
       "    }\n",
       "</style>\n",
       "<table border=\"1\" class=\"dataframe\">\n",
       "  <thead>\n",
       "    <tr style=\"text-align: right;\">\n",
       "      <th></th>\n",
       "      <th>dataset_name</th>\n",
       "      <th>seed</th>\n",
       "      <th>save_dir</th>\n",
       "      <th>model_name</th>\n",
       "      <th>split_strategy</th>\n",
       "      <th>max_depth</th>\n",
       "      <th>num_prompts</th>\n",
       "      <th>checkpoint</th>\n",
       "      <th>checkpoint_prompting</th>\n",
       "      <th>verbalizer_num</th>\n",
       "      <th>...</th>\n",
       "      <th>save_dir_unique</th>\n",
       "      <th>roc_auc_train</th>\n",
       "      <th>accuracy_train</th>\n",
       "      <th>balanced_accuracy_train</th>\n",
       "      <th>roc_auc_test</th>\n",
       "      <th>accuracy_test</th>\n",
       "      <th>balanced_accuracy_test</th>\n",
       "      <th>prompts_list</th>\n",
       "      <th>prompt</th>\n",
       "      <th>feature_names</th>\n",
       "    </tr>\n",
       "  </thead>\n",
       "  <tbody>\n",
       "    <tr>\n",
       "      <th>0</th>\n",
       "      <td>rotten_tomatoes</td>\n",
       "      <td>0</td>\n",
       "      <td>/home/jxm3/research/prompting/tree-prompt/resu...</td>\n",
       "      <td>tprompt</td>\n",
       "      <td>iprompt</td>\n",
       "      <td>4</td>\n",
       "      <td>15</td>\n",
       "      <td>EleutherAI/gpt-j-6B</td>\n",
       "      <td>EleutherAI/gpt-j-6B</td>\n",
       "      <td>1</td>\n",
       "      <td>...</td>\n",
       "      <td>/home/jxm3/research/prompting/tree-prompt/resu...</td>\n",
       "      <td>0.656243</td>\n",
       "      <td>0.632239</td>\n",
       "      <td>0.632239</td>\n",
       "      <td>0.626749</td>\n",
       "      <td>0.621013</td>\n",
       "      <td>0.621013</td>\n",
       "      <td>[\\n\\nDoes the review express admiration or pra...</td>\n",
       "      <td>\\n\\nDoes the review express admiration or prai...</td>\n",
       "      <td>[]</td>\n",
       "    </tr>\n",
       "    <tr>\n",
       "      <th>1</th>\n",
       "      <td>rotten_tomatoes</td>\n",
       "      <td>0</td>\n",
       "      <td>/home/jxm3/research/prompting/tree-prompt/resu...</td>\n",
       "      <td>tprompt</td>\n",
       "      <td>iprompt</td>\n",
       "      <td>2</td>\n",
       "      <td>15</td>\n",
       "      <td>EleutherAI/gpt-j-6B</td>\n",
       "      <td>EleutherAI/gpt-j-6B</td>\n",
       "      <td>1</td>\n",
       "      <td>...</td>\n",
       "      <td>/home/jxm3/research/prompting/tree-prompt/resu...</td>\n",
       "      <td>0.674523</td>\n",
       "      <td>0.666706</td>\n",
       "      <td>0.666706</td>\n",
       "      <td>0.654656</td>\n",
       "      <td>0.645403</td>\n",
       "      <td>0.645403</td>\n",
       "      <td>[\\n\\nDoes the review mention a specific aspect...</td>\n",
       "      <td>\\n\\nDoes the review mention a specific aspect ...</td>\n",
       "      <td>[]</td>\n",
       "    </tr>\n",
       "  </tbody>\n",
       "</table>\n",
       "<p>2 rows × 29 columns</p>\n",
       "</div>"
      ],
      "text/plain": [
       "      dataset_name  seed                                           save_dir   \n",
       "0  rotten_tomatoes     0  /home/jxm3/research/prompting/tree-prompt/resu...  \\\n",
       "1  rotten_tomatoes     0  /home/jxm3/research/prompting/tree-prompt/resu...   \n",
       "\n",
       "  model_name split_strategy  max_depth  num_prompts           checkpoint   \n",
       "0    tprompt        iprompt          4           15  EleutherAI/gpt-j-6B  \\\n",
       "1    tprompt        iprompt          2           15  EleutherAI/gpt-j-6B   \n",
       "\n",
       "  checkpoint_prompting  verbalizer_num  ...   \n",
       "0  EleutherAI/gpt-j-6B               1  ...  \\\n",
       "1  EleutherAI/gpt-j-6B               1  ...   \n",
       "\n",
       "                                     save_dir_unique roc_auc_train   \n",
       "0  /home/jxm3/research/prompting/tree-prompt/resu...      0.656243  \\\n",
       "1  /home/jxm3/research/prompting/tree-prompt/resu...      0.674523   \n",
       "\n",
       "   accuracy_train  balanced_accuracy_train  roc_auc_test  accuracy_test   \n",
       "0        0.632239                 0.632239      0.626749       0.621013  \\\n",
       "1        0.666706                 0.666706      0.654656       0.645403   \n",
       "\n",
       "   balanced_accuracy_test                                       prompts_list   \n",
       "0                0.621013  [\\n\\nDoes the review express admiration or pra...  \\\n",
       "1                0.645403  [\\n\\nDoes the review mention a specific aspect...   \n",
       "\n",
       "                                              prompt feature_names  \n",
       "0  \\n\\nDoes the review express admiration or prai...            []  \n",
       "1  \\n\\nDoes the review mention a specific aspect ...            []  \n",
       "\n",
       "[2 rows x 29 columns]"
      ]
     },
     "execution_count": 4,
     "metadata": {},
     "output_type": "execute_result"
    }
   ],
   "source": [
    "r.head()"
   ]
  },
  {
   "cell_type": "code",
   "execution_count": 5,
   "metadata": {},
   "outputs": [
    {
     "data": {
      "text/html": [
       "<div>\n",
       "<style scoped>\n",
       "    .dataframe tbody tr th:only-of-type {\n",
       "        vertical-align: middle;\n",
       "    }\n",
       "\n",
       "    .dataframe tbody tr th {\n",
       "        vertical-align: top;\n",
       "    }\n",
       "\n",
       "    .dataframe thead th {\n",
       "        text-align: right;\n",
       "    }\n",
       "</style>\n",
       "<table border=\"1\" class=\"dataframe\">\n",
       "  <thead>\n",
       "    <tr style=\"text-align: right;\">\n",
       "      <th></th>\n",
       "      <th>dataset_name</th>\n",
       "      <th>seed</th>\n",
       "      <th>save_dir</th>\n",
       "      <th>model_name</th>\n",
       "      <th>split_strategy</th>\n",
       "      <th>max_depth</th>\n",
       "      <th>num_prompts</th>\n",
       "      <th>checkpoint</th>\n",
       "      <th>checkpoint_prompting</th>\n",
       "      <th>verbalizer_num</th>\n",
       "      <th>...</th>\n",
       "      <th>save_dir_unique</th>\n",
       "      <th>roc_auc_train</th>\n",
       "      <th>accuracy_train</th>\n",
       "      <th>balanced_accuracy_train</th>\n",
       "      <th>roc_auc_test</th>\n",
       "      <th>accuracy_test</th>\n",
       "      <th>balanced_accuracy_test</th>\n",
       "      <th>prompts_list</th>\n",
       "      <th>prompt</th>\n",
       "      <th>feature_names</th>\n",
       "    </tr>\n",
       "  </thead>\n",
       "  <tbody>\n",
       "    <tr>\n",
       "      <th>0</th>\n",
       "      <td>rotten_tomatoes</td>\n",
       "      <td>0</td>\n",
       "      <td>/home/jxm3/research/prompting/tree-prompt/resu...</td>\n",
       "      <td>tprompt</td>\n",
       "      <td>iprompt</td>\n",
       "      <td>4</td>\n",
       "      <td>15</td>\n",
       "      <td>EleutherAI/gpt-j-6B</td>\n",
       "      <td>EleutherAI/gpt-j-6B</td>\n",
       "      <td>1</td>\n",
       "      <td>...</td>\n",
       "      <td>/home/jxm3/research/prompting/tree-prompt/resu...</td>\n",
       "      <td>0.656243</td>\n",
       "      <td>0.632239</td>\n",
       "      <td>0.632239</td>\n",
       "      <td>0.626749</td>\n",
       "      <td>0.621013</td>\n",
       "      <td>0.621013</td>\n",
       "      <td>[\\n\\nDoes the review express admiration or pra...</td>\n",
       "      <td>\\n\\nDoes the review express admiration or prai...</td>\n",
       "      <td>[]</td>\n",
       "    </tr>\n",
       "    <tr>\n",
       "      <th>1</th>\n",
       "      <td>rotten_tomatoes</td>\n",
       "      <td>0</td>\n",
       "      <td>/home/jxm3/research/prompting/tree-prompt/resu...</td>\n",
       "      <td>tprompt</td>\n",
       "      <td>iprompt</td>\n",
       "      <td>2</td>\n",
       "      <td>15</td>\n",
       "      <td>EleutherAI/gpt-j-6B</td>\n",
       "      <td>EleutherAI/gpt-j-6B</td>\n",
       "      <td>1</td>\n",
       "      <td>...</td>\n",
       "      <td>/home/jxm3/research/prompting/tree-prompt/resu...</td>\n",
       "      <td>0.674523</td>\n",
       "      <td>0.666706</td>\n",
       "      <td>0.666706</td>\n",
       "      <td>0.654656</td>\n",
       "      <td>0.645403</td>\n",
       "      <td>0.645403</td>\n",
       "      <td>[\\n\\nDoes the review mention a specific aspect...</td>\n",
       "      <td>\\n\\nDoes the review mention a specific aspect ...</td>\n",
       "      <td>[]</td>\n",
       "    </tr>\n",
       "  </tbody>\n",
       "</table>\n",
       "<p>2 rows × 29 columns</p>\n",
       "</div>"
      ],
      "text/plain": [
       "      dataset_name  seed                                           save_dir   \n",
       "0  rotten_tomatoes     0  /home/jxm3/research/prompting/tree-prompt/resu...  \\\n",
       "1  rotten_tomatoes     0  /home/jxm3/research/prompting/tree-prompt/resu...   \n",
       "\n",
       "  model_name split_strategy  max_depth  num_prompts           checkpoint   \n",
       "0    tprompt        iprompt          4           15  EleutherAI/gpt-j-6B  \\\n",
       "1    tprompt        iprompt          2           15  EleutherAI/gpt-j-6B   \n",
       "\n",
       "  checkpoint_prompting  verbalizer_num  ...   \n",
       "0  EleutherAI/gpt-j-6B               1  ...  \\\n",
       "1  EleutherAI/gpt-j-6B               1  ...   \n",
       "\n",
       "                                     save_dir_unique roc_auc_train   \n",
       "0  /home/jxm3/research/prompting/tree-prompt/resu...      0.656243  \\\n",
       "1  /home/jxm3/research/prompting/tree-prompt/resu...      0.674523   \n",
       "\n",
       "   accuracy_train  balanced_accuracy_train  roc_auc_test  accuracy_test   \n",
       "0        0.632239                 0.632239      0.626749       0.621013  \\\n",
       "1        0.666706                 0.666706      0.654656       0.645403   \n",
       "\n",
       "   balanced_accuracy_test                                       prompts_list   \n",
       "0                0.621013  [\\n\\nDoes the review express admiration or pra...  \\\n",
       "1                0.645403  [\\n\\nDoes the review mention a specific aspect...   \n",
       "\n",
       "                                              prompt feature_names  \n",
       "0  \\n\\nDoes the review express admiration or prai...            []  \n",
       "1  \\n\\nDoes the review mention a specific aspect ...            []  \n",
       "\n",
       "[2 rows x 29 columns]"
      ]
     },
     "execution_count": 5,
     "metadata": {},
     "output_type": "execute_result"
    }
   ],
   "source": [
    "r"
   ]
  },
  {
   "cell_type": "code",
   "execution_count": 6,
   "metadata": {},
   "outputs": [],
   "source": [
    "# select a single model\n",
    "# rd = r[(r['checkpoint'] == 'EleutherAI/gpt-j-6B') & (r['max_depth'] == 5)]\n",
    "rd = r[r['max_depth'] == 4]\n",
    "run_args = rd\n",
    "run_args = rd.sort_values(by='accuracy_test', ascending=False).iloc[0]\n",
    "model_name = run_args.model_name"
   ]
  },
  {
   "cell_type": "code",
   "execution_count": 7,
   "metadata": {},
   "outputs": [
    {
     "name": "stdout",
     "output_type": "stream",
     "text": [
      "tprompt // rotten_tomatoes // 1\n"
     ]
    }
   ],
   "source": [
    "print(run_args.model_name, '//', run_args.dataset_name, '//', run_args.verbalizer_num)"
   ]
  },
  {
   "cell_type": "markdown",
   "metadata": {},
   "source": [
    "### Load an individual model"
   ]
  },
  {
   "cell_type": "code",
   "execution_count": 8,
   "metadata": {},
   "outputs": [
    {
     "data": {
      "text/plain": [
       "'/home/jxm3/research/prompting/tree-prompt/results/tree-prompt/jun22-rt-2/44fa4d9cc7e094d251a9fd261586ab7e7958ea9377bf991ee6edc1a0bbcb43da'"
      ]
     },
     "execution_count": 8,
     "metadata": {},
     "output_type": "execute_result"
    }
   ],
   "source": [
    "run_args.save_dir_unique"
   ]
  },
  {
   "cell_type": "code",
   "execution_count": 9,
   "metadata": {},
   "outputs": [
    {
     "data": {
      "text/plain": [
       "4"
      ]
     },
     "execution_count": 9,
     "metadata": {},
     "output_type": "execute_result"
    }
   ],
   "source": [
    "run_args.max_depth"
   ]
  },
  {
   "cell_type": "code",
   "execution_count": 18,
   "metadata": {},
   "outputs": [
    {
     "data": {
      "text/plain": [
       "'\\n\\nDoes the review highlight a positive aspect or praise the subject matter?'"
      ]
     },
     "execution_count": 18,
     "metadata": {},
     "output_type": "execute_result"
    }
   ],
   "source": []
  },
  {
   "cell_type": "code",
   "execution_count": 19,
   "metadata": {},
   "outputs": [
    {
     "name": "stdout",
     "output_type": "stream",
     "text": [
      "test acc 0.6210131332082551 depth 4 dset rotten_tomatoes\n",
      "verb: 1\n",
      "> Tree(max_depth=4 split_strategy=iprompt)\n",
      "> ------------------------------------------------------\n",
      "PromptStump(val=0.50 n=8530 prompt=Does the review express admiration or praise for the movie's content or storytelling?)\n",
      "   PromptStump(val=0.39 n=2714 prompt=Does the review mention the use of cell phones as a significant aspect of the movie?)\n",
      "      PromptStump(val=0.37 n=2532 prompt=Does the review primarily focus on praising the dialogue and characterizations?)\n",
      "         PromptStump(val=0.20 n=1198 prompt=Does the review mention a lack of humor or emptiness in the story?)\n",
      "            Neg n=1183 val=0.206\n",
      "            Pos n=15 val=0.000\n",
      "         PromptStump(val=0.52 n=1334 prompt=Does the review praise the movie's adaptation, style, or genre flair?)\n",
      "            Neg n=201 val=0.408\n",
      "            Pos n=1133 val=0.537\n",
      "      PromptStump(val=0.62 n=182 prompt=Does the review express a positive opinion about the main element or performance in the movie?)\n",
      "         PromptStump(val=0.78 n=9 prompt=Does the review highlight a positive aspect or message of the movie?)\n",
      "            Neg n=6 val=0.833\n",
      "            Pos n=3 val=0.667\n",
      "         PromptStump(val=0.61 n=173 prompt=Does the review primarily focus on the positive aspects of the movie, such as enjoyment or visual appeal?)\n",
      "            Neg n=3 val=0.667\n",
      "            Pos n=170 val=0.612\n",
      "   PromptStump(val=0.55 n=5816 prompt=Does the review highlight a positive aspect or praise the subject matter?)\n",
      "      PromptStump(val=0.33 n=287 prompt=Does the review praise the filmmaking or the subject matter discussed in the film?)\n",
      "         PromptStump(val=0.27 n=217 prompt=Does the review praise the director's ability or the film's treatment of its subject?)\n",
      "            Neg n=214 val=0.266\n",
      "            Pos n=3 val=0.333\n",
      "         PromptStump(val=0.51 n=70 prompt=Does the review primarily praise the performance or quality of the film or its elements?)\n",
      "            Neg n=42 val=0.452\n",
      "            Pos n=28 val=0.607\n",
      "      PromptStump(val=0.57 n=5529 prompt=Does the review mention a positive aspect of the movie or praise its content?)\n",
      "         PromptStump(val=0.38 n=1066 prompt=Does the review mention an aspect of the movie that enhances the viewing experience?)\n",
      "            Neg n=838 val=0.348\n",
      "            Pos n=228 val=0.518\n",
      "         PromptStump(val=0.61 n=4463 prompt=Does the review highlight positive aspects of the movie, such as compelling storytelling, strong character development, or captivating visuals?)\n",
      "            Neg n=213 val=0.451\n",
      "            Pos n=4250 val=0.616\n",
      "\n",
      "[\"Does the review express admiration or praise for the movie's content or storytelling?\", 'Does the review mention the use of cell phones as a significant aspect of the movie?', 'Does the review highlight a positive aspect or praise the subject matter?', 'Does the review primarily focus on praising the dialogue and characterizations?', 'Does the review express a positive opinion about the main element or performance in the movie?', 'Does the review praise the filmmaking or the subject matter discussed in the film?', 'Does the review mention a positive aspect of the movie or praise its content?', 'Does the review mention a lack of humor or emptiness in the story?', \"Does the review praise the movie's adaptation, style, or genre flair?\", 'Does the review highlight a positive aspect or message of the movie?', 'Does the review primarily focus on the positive aspects of the movie, such as enjoyment or visual appeal?', \"Does the review praise the director's ability or the film's treatment of its subject?\", 'Does the review primarily praise the performance or quality of the film or its elements?', 'Does the review mention an aspect of the movie that enhances the viewing experience?', 'Does the review highlight positive aspects of the movie, such as compelling storytelling, strong character development, or captivating visuals?', '', '', '', '', '', '', '', '', '', '', '', '', '', '', '', '']\n"
     ]
    }
   ],
   "source": [
    "print('test acc', run_args.accuracy_test, 'depth', run_args.max_depth, 'dset', run_args.dataset_name)\n",
    "print('verb:', run_args.verbalizer_num)\n",
    "model = pkl.load(open(join(run_args.save_dir_unique, 'model.pkl'), 'rb'))\n",
    "\n",
    "\n",
    "# strip newlines\n",
    "nodes = [model.root_]\n",
    "while len(nodes):\n",
    "    node = nodes.pop(0)\n",
    "    if node is None: continue\n",
    "    node.prompt = node.prompt.strip()\n",
    "    nodes.append(node.child_left)\n",
    "    nodes.append(node.child_right)\n",
    "    # model.root_.child_right.prompt\n",
    "\n",
    "if model_name == 'tprompt':\n",
    "    dt, feature_names = imodelsx.viz.extract_sklearn_tree_from_llm_tree(model, n_classes=2, dtreeviz_dummies=False)\n",
    "    print(model)\n",
    "    print(feature_names)\n",
    "else:\n",
    "    dt = model\n",
    "    feature_names = run_args.feature_names\n",
    "feat_names = ['\\n'.join(n.split(',')) for n in feature_names]"
   ]
  },
  {
   "cell_type": "code",
   "execution_count": 12,
   "metadata": {},
   "outputs": [
    {
     "data": {
      "text/plain": [
       "['__class__',\n",
       " '__delattr__',\n",
       " '__dict__',\n",
       " '__dir__',\n",
       " '__doc__',\n",
       " '__eq__',\n",
       " '__format__',\n",
       " '__ge__',\n",
       " '__getattribute__',\n",
       " '__gt__',\n",
       " '__hash__',\n",
       " '__init__',\n",
       " '__init_subclass__',\n",
       " '__le__',\n",
       " '__lt__',\n",
       " '__module__',\n",
       " '__ne__',\n",
       " '__new__',\n",
       " '__reduce__',\n",
       " '__reduce_ex__',\n",
       " '__repr__',\n",
       " '__setattr__',\n",
       " '__sizeof__',\n",
       " '__str__',\n",
       " '__subclasshook__',\n",
       " '__weakref__',\n",
       " '_set_prompts_list',\n",
       " 'args',\n",
       " 'assert_checks',\n",
       " 'checkpoint',\n",
       " 'checkpoint_prompting',\n",
       " 'device',\n",
       " 'feature_names',\n",
       " 'fit',\n",
       " 'max_depth',\n",
       " 'model',\n",
       " 'predict',\n",
       " 'predict_proba',\n",
       " 'prompts_list',\n",
       " 'root_',\n",
       " 'split_strategy',\n",
       " 'tokenizer',\n",
       " 'verbose',\n",
       " 'viz_tree']"
      ]
     },
     "execution_count": 12,
     "metadata": {},
     "output_type": "execute_result"
    }
   ],
   "source": [
    "dir(model)"
   ]
  },
  {
   "cell_type": "code",
   "execution_count": 10,
   "metadata": {},
   "outputs": [
    {
     "data": {
      "image/png": "[encoded data removed]",
      "text/plain": [
       "<Figure size 640x480 with 1 Axes>"
      ]
     },
     "metadata": {
      "image/png": {
       "height": 455,
       "width": 615
      }
     },
     "output_type": "display_data"
    }
   ],
   "source": [
    "sklearn.tree.plot_tree(dt, feature_names=feat_names, class_names=['neg', 'pos'],\n",
    "                        precision=2, rounded=True, fontsize=2)\n",
    "plt.show()"
   ]
  },
  {
   "cell_type": "code",
   "execution_count": null,
   "metadata": {},
   "outputs": [],
   "source": []
  }
 ],
 "metadata": {
  "kernelspec": {
   "display_name": "Python 3 (ipykernel)",
   "language": "python",
   "name": "python3"
  },
  "language_info": {
   "codemirror_mode": {
    "name": "ipython",
    "version": 3
   },
   "file_extension": ".py",
   "mimetype": "text/x-python",
   "name": "python",
   "nbconvert_exporter": "python",
   "pygments_lexer": "ipython3",
   "version": "3.10.10"
  },
  "vscode": {
   "interpreter": {
    "hash": "a9ff692d44ea03fd8a03facee7621117bbbb82def09bacaacf0a2cbc238b7b91"
   }
  }
 },
 "nbformat": 4,
 "nbformat_minor": 4
}
