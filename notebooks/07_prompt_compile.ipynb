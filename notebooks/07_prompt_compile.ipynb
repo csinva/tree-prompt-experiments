{
 "cells": [
  {
   "cell_type": "code",
   "execution_count": 1,
   "metadata": {},
   "outputs": [],
   "source": [
    "%load_ext autoreload\n",
    "%autoreload 2\n",
    "import numpy as np\n",
    "from copy import deepcopy\n",
    "import sys\n",
    "import datasets\n",
    "import imodelsx.metrics\n",
    "import numpy as np\n",
    "sys.path.append('../experiments/')\n",
    "import os\n",
    "import pandas as pd\n",
    "import numpy as np\n",
    "import transformers\n",
    "import sys\n",
    "from os.path import join\n",
    "import datasets\n",
    "from typing import Dict, List\n",
    "from dict_hash import sha256\n",
    "import numpy as np\n",
    "\n",
    "import imodelsx.treeprompt.stump\n",
    "\n",
    "from tprompt.compiler.evaluator import PromptHooker, modify_activations\n",
    "from tprompt.compiler import compiling"
   ]
  },
  {
   "cell_type": "markdown",
   "metadata": {},
   "source": [
    "# Load prompt vector"
   ]
  },
  {
   "cell_type": "code",
   "execution_count": 2,
   "metadata": {},
   "outputs": [],
   "source": [
    "# hyperparams\n",
    "checkpoint = 'gpt2'\n",
    "prompts = [\n",
    "    \" This review of a movie is\",\n",
    "    \" Positive or Negative? The movie was\",\n",
    "    \" The sentiment of the movie was\",\n",
    "    # \" The plot of the movie was really\",\n",
    "    \" The acting in the movie was\",\n",
    "\n",
    "]\n",
    "prompt_at_start_or_end = 'start'\n",
    "# note: also requires specifying the layer for the hook below"
   ]
  },
  {
   "cell_type": "code",
   "execution_count": 3,
   "metadata": {},
   "outputs": [],
   "source": [
    "avg_soft_prompt = compiling.get_avg_soft_prompt(checkpoint, prompts)"
   ]
  },
  {
   "cell_type": "markdown",
   "metadata": {},
   "source": [
    "# Evaluate accuracies"
   ]
  },
  {
   "cell_type": "code",
   "execution_count": 4,
   "metadata": {},
   "outputs": [
    {
     "data": {
      "application/vnd.jupyter.widget-view+json": {
       "model_id": "8d45da987b1f44eb94d80ed4064417f1",
       "version_major": 2,
       "version_minor": 0
      },
      "text/plain": [
       "  0%|          | 0/3 [00:00<?, ?it/s]"
      ]
     },
     "metadata": {},
     "output_type": "display_data"
    }
   ],
   "source": [
    "dset_train = datasets.load_dataset('rotten_tomatoes')['train']\n",
    "dset_train = dset_train.select(np.random.choice(\n",
    "    len(dset_train), size=100, replace=False))\n",
    "# dset_val = datasets.load_dataset('rotten_tomatoes')['validation']\n",
    "# dset_val = dset_val.select(np.random.choice(\n",
    "#     len(dset_val), size=100, replace=False))"
   ]
  },
  {
   "cell_type": "code",
   "execution_count": 5,
   "metadata": {},
   "outputs": [
    {
     "name": "stdout",
     "output_type": "stream",
     "text": [
      "Prompt 0:  This review of a movie is\n"
     ]
    },
    {
     "name": "stderr",
     "output_type": "stream",
     "text": [
      "                                                                                            0.26it/s]\r"
     ]
    },
    {
     "name": "stdout",
     "output_type": "stream",
     "text": [
      "------------------------\n",
      "Prompt 0:  This review of a movie is\n"
     ]
    },
    {
     "name": "stderr",
     "output_type": "stream",
     "text": [
      "                                                                                            7.97it/s] \r"
     ]
    },
    {
     "name": "stdout",
     "output_type": "stream",
     "text": [
      "Prompt 1:  Positive or Negative? The movie was\n"
     ]
    },
    {
     "name": "stderr",
     "output_type": "stream",
     "text": [
      "                                                                                            7.70it/s] \r"
     ]
    },
    {
     "name": "stdout",
     "output_type": "stream",
     "text": [
      "Prompt 2:  The sentiment of the movie was\n"
     ]
    },
    {
     "name": "stderr",
     "output_type": "stream",
     "text": [
      "                                                                                            8.02it/s] \r"
     ]
    },
    {
     "name": "stdout",
     "output_type": "stream",
     "text": [
      "Prompt 3:  The acting in the movie was\n"
     ]
    },
    {
     "name": "stderr",
     "output_type": "stream",
     "text": [
      "                                                                                            7.83it/s] \r"
     ]
    },
    {
     "name": "stdout",
     "output_type": "stream",
     "text": [
      "**Averaged** -> 0.56\n",
      "0  This review of a movie is -> 0.49\n",
      "1  Positive or Negative? The movie was -> 0.49\n",
      "2  The sentiment of the movie was -> 0.52\n",
      "3  The acting in the movie was -> 0.5\n"
     ]
    }
   ],
   "source": [
    "verbalizer = {0: \" Negative.\", 1: \" Positive.\"}\n",
    "\n",
    "m = PromptHooker(\n",
    "    checkpoint=checkpoint,\n",
    "    # this should probably be the prompt with the max num tokens?\n",
    "    prompts=[prompts[0]],\n",
    "    verbalizer=verbalizer,\n",
    "    cache_prompt_features_dir=None,\n",
    "    random_state=42,\n",
    "    hook_weights=avg_soft_prompt,\n",
    "    prompt_at_start_or_end='end',\n",
    "    prompt_template=\"{example}{prompt}\",\n",
    ")\n",
    "m.fit(dset_train[\"text\"], dset_train[\"label\"])\n",
    "acc_avg = m.prompt_accs_[0]\n",
    "\n",
    "print('------------------------')\n",
    "m = PromptHooker(\n",
    "    checkpoint=checkpoint,\n",
    "    prompts=prompts,\n",
    "    verbalizer=verbalizer,\n",
    "    cache_prompt_features_dir=None,\n",
    "    random_state=42,\n",
    "    hook_weights=None,\n",
    "    prompt_at_start_or_end='end',\n",
    ")\n",
    "m.fit(dset_train[\"text\"], dset_train[\"label\"])\n",
    "accs0 = deepcopy(m.prompt_accs_)\n",
    "print('**Averaged** ->', acc_avg)\n",
    "for i, prompt in enumerate(prompts):\n",
    "    print(i, prompt, '->', accs0[i])"
   ]
  },
  {
   "cell_type": "markdown",
   "metadata": {},
   "source": [
    "# Unit test"
   ]
  },
  {
   "cell_type": "code",
   "execution_count": 13,
   "metadata": {},
   "outputs": [],
   "source": [
    "from transformers import AutoTokenizer\n",
    "\n",
    "tok = AutoTokenizer.from_pretrained(checkpoint)\n",
    "tok_lens = [len(tok.encode(prompt)) for prompt in prompts]"
   ]
  },
  {
   "cell_type": "code",
   "execution_count": 14,
   "metadata": {},
   "outputs": [
    {
     "data": {
      "text/plain": [
       "[6, 7, 6, 6]"
      ]
     },
     "execution_count": 14,
     "metadata": {},
     "output_type": "execute_result"
    }
   ],
   "source": [
    "tok_lens"
   ]
  },
  {
   "cell_type": "code",
   "execution_count": 15,
   "metadata": {},
   "outputs": [
    {
     "name": "stdout",
     "output_type": "stream",
     "text": [
      "Prompt 0:  This review of a movie is\n"
     ]
    },
    {
     "name": "stderr",
     "output_type": "stream",
     "text": [
      "                                                                                            6.81it/s] \r"
     ]
    },
    {
     "name": "stdout",
     "output_type": "stream",
     "text": [
      "Prompt 1:  The sentiment of the movie was\n"
     ]
    },
    {
     "name": "stderr",
     "output_type": "stream",
     "text": [
      "                                                                                            7.04it/s] \r"
     ]
    },
    {
     "name": "stdout",
     "output_type": "stream",
     "text": [
      "Prompt 2:  The acting in the movie was\n"
     ]
    },
    {
     "name": "stderr",
     "output_type": "stream",
     "text": [
      "                                                                                            7.19it/s] \r"
     ]
    },
    {
     "data": {
      "text/html": [
       "<style>#sk-container-id-3 {color: black;}#sk-container-id-3 pre{padding: 0;}#sk-container-id-3 div.sk-toggleable {background-color: white;}#sk-container-id-3 label.sk-toggleable__label {cursor: pointer;display: block;width: 100%;margin-bottom: 0;padding: 0.3em;box-sizing: border-box;text-align: center;}#sk-container-id-3 label.sk-toggleable__label-arrow:before {content: \"▸\";float: left;margin-right: 0.25em;color: #696969;}#sk-container-id-3 label.sk-toggleable__label-arrow:hover:before {color: black;}#sk-container-id-3 div.sk-estimator:hover label.sk-toggleable__label-arrow:before {color: black;}#sk-container-id-3 div.sk-toggleable__content {max-height: 0;max-width: 0;overflow: hidden;text-align: left;background-color: #f0f8ff;}#sk-container-id-3 div.sk-toggleable__content pre {margin: 0.2em;color: black;border-radius: 0.25em;background-color: #f0f8ff;}#sk-container-id-3 input.sk-toggleable__control:checked~div.sk-toggleable__content {max-height: 200px;max-width: 100%;overflow: auto;}#sk-container-id-3 input.sk-toggleable__control:checked~label.sk-toggleable__label-arrow:before {content: \"▾\";}#sk-container-id-3 div.sk-estimator input.sk-toggleable__control:checked~label.sk-toggleable__label {background-color: #d4ebff;}#sk-container-id-3 div.sk-label input.sk-toggleable__control:checked~label.sk-toggleable__label {background-color: #d4ebff;}#sk-container-id-3 input.sk-hidden--visually {border: 0;clip: rect(1px 1px 1px 1px);clip: rect(1px, 1px, 1px, 1px);height: 1px;margin: -1px;overflow: hidden;padding: 0;position: absolute;width: 1px;}#sk-container-id-3 div.sk-estimator {font-family: monospace;background-color: #f0f8ff;border: 1px dotted black;border-radius: 0.25em;box-sizing: border-box;margin-bottom: 0.5em;}#sk-container-id-3 div.sk-estimator:hover {background-color: #d4ebff;}#sk-container-id-3 div.sk-parallel-item::after {content: \"\";width: 100%;border-bottom: 1px solid gray;flex-grow: 1;}#sk-container-id-3 div.sk-label:hover label.sk-toggleable__label {background-color: #d4ebff;}#sk-container-id-3 div.sk-serial::before {content: \"\";position: absolute;border-left: 1px solid gray;box-sizing: border-box;top: 0;bottom: 0;left: 50%;z-index: 0;}#sk-container-id-3 div.sk-serial {display: flex;flex-direction: column;align-items: center;background-color: white;padding-right: 0.2em;padding-left: 0.2em;position: relative;}#sk-container-id-3 div.sk-item {position: relative;z-index: 1;}#sk-container-id-3 div.sk-parallel {display: flex;align-items: stretch;justify-content: center;background-color: white;position: relative;}#sk-container-id-3 div.sk-item::before, #sk-container-id-3 div.sk-parallel-item::before {content: \"\";position: absolute;border-left: 1px solid gray;box-sizing: border-box;top: 0;bottom: 0;left: 50%;z-index: -1;}#sk-container-id-3 div.sk-parallel-item {display: flex;flex-direction: column;z-index: 1;position: relative;background-color: white;}#sk-container-id-3 div.sk-parallel-item:first-child::after {align-self: flex-end;width: 50%;}#sk-container-id-3 div.sk-parallel-item:last-child::after {align-self: flex-start;width: 50%;}#sk-container-id-3 div.sk-parallel-item:only-child::after {width: 0;}#sk-container-id-3 div.sk-dashed-wrapped {border: 1px dashed gray;margin: 0 0.4em 0.5em 0.4em;box-sizing: border-box;padding-bottom: 0.4em;background-color: white;}#sk-container-id-3 div.sk-label label {font-family: monospace;font-weight: bold;display: inline-block;line-height: 1.2em;}#sk-container-id-3 div.sk-label-container {text-align: center;}#sk-container-id-3 div.sk-container {/* jupyter's `normalize.less` sets `[hidden] { display: none; }` but bootstrap.min.css set `[hidden] { display: none !important; }` so we also need the `!important` here to be able to override the default hidden behavior on the sphinx rendered scikit-learn.org. See: https://github.com/scikit-learn/scikit-learn/issues/21755 */display: inline-block !important;position: relative;}#sk-container-id-3 div.sk-text-repr-fallback {display: none;}</style><div id=\"sk-container-id-3\" class=\"sk-top-container\"><div class=\"sk-text-repr-fallback\"><pre>PromptHooker(cache_prompt_features_dir=None, checkpoint=&#x27;gpt2&#x27;,\n",
       "             hook_weights=tensor([[[ 0.0242, -0.1042,  0.0437,  ..., -0.0471,  0.0455,  0.0430],\n",
       "         [-0.0821, -0.1882,  0.0493,  ..., -0.0688,  0.0849,  0.1223],\n",
       "         [ 0.0759, -0.1216,  0.0096,  ..., -0.0654,  0.0015,  0.0660],\n",
       "         ...,\n",
       "         [-0.0548, -0.0564,  0.1641,  ..., -0.0132,  0.0767, -0.0293],\n",
       "         [ 0.0336, -0.0667,  0.3518,  ..., -0.0217,  0.0272,  0.1439],\n",
       "         [-0.0497, -0.0910,  0.2781,  ...,  0.1334, -0.0300, -0.0691]]],\n",
       "       device=&#x27;cuda:0&#x27;),\n",
       "             prompts=[&#x27; This review of a movie is&#x27;,\n",
       "                      &#x27; The sentiment of the movie was&#x27;,\n",
       "                      &#x27; The acting in the movie was&#x27;])</pre><b>In a Jupyter environment, please rerun this cell to show the HTML representation or trust the notebook. <br />On GitHub, the HTML representation is unable to render, please try loading this page with nbviewer.org.</b></div><div class=\"sk-container\" hidden><div class=\"sk-item\"><div class=\"sk-estimator sk-toggleable\"><input class=\"sk-toggleable__control sk-hidden--visually\" id=\"sk-estimator-id-3\" type=\"checkbox\" checked><label for=\"sk-estimator-id-3\" class=\"sk-toggleable__label sk-toggleable__label-arrow\">PromptHooker</label><div class=\"sk-toggleable__content\"><pre>PromptHooker(cache_prompt_features_dir=None, checkpoint=&#x27;gpt2&#x27;,\n",
       "             hook_weights=tensor([[[ 0.0242, -0.1042,  0.0437,  ..., -0.0471,  0.0455,  0.0430],\n",
       "         [-0.0821, -0.1882,  0.0493,  ..., -0.0688,  0.0849,  0.1223],\n",
       "         [ 0.0759, -0.1216,  0.0096,  ..., -0.0654,  0.0015,  0.0660],\n",
       "         ...,\n",
       "         [-0.0548, -0.0564,  0.1641,  ..., -0.0132,  0.0767, -0.0293],\n",
       "         [ 0.0336, -0.0667,  0.3518,  ..., -0.0217,  0.0272,  0.1439],\n",
       "         [-0.0497, -0.0910,  0.2781,  ...,  0.1334, -0.0300, -0.0691]]],\n",
       "       device=&#x27;cuda:0&#x27;),\n",
       "             prompts=[&#x27; This review of a movie is&#x27;,\n",
       "                      &#x27; The sentiment of the movie was&#x27;,\n",
       "                      &#x27; The acting in the movie was&#x27;])</pre></div></div></div></div></div>"
      ],
      "text/plain": [
       "PromptHooker(cache_prompt_features_dir=None, checkpoint='gpt2',\n",
       "             hook_weights=tensor([[[ 0.0242, -0.1042,  0.0437,  ..., -0.0471,  0.0455,  0.0430],\n",
       "         [-0.0821, -0.1882,  0.0493,  ..., -0.0688,  0.0849,  0.1223],\n",
       "         [ 0.0759, -0.1216,  0.0096,  ..., -0.0654,  0.0015,  0.0660],\n",
       "         ...,\n",
       "         [-0.0548, -0.0564,  0.1641,  ..., -0.0132,  0.0767, -0.0293],\n",
       "         [ 0.0336, -0.0667,  0.3518,  ..., -0.0217,  0.0272,  0.1439],\n",
       "         [-0.0497, -0.0910,  0.2781,  ...,  0.1334, -0.0300, -0.0691]]],\n",
       "       device='cuda:0'),\n",
       "             prompts=[' This review of a movie is',\n",
       "                      ' The sentiment of the movie was',\n",
       "                      ' The acting in the movie was'])"
      ]
     },
     "execution_count": 15,
     "metadata": {},
     "output_type": "execute_result"
    }
   ],
   "source": [
    "m = PromptHooker(\n",
    "    checkpoint=checkpoint,\n",
    "    # 3 different prompts with same len\n",
    "    prompts=[prompts[0], prompts[2], prompts[3]],\n",
    "    verbalizer=verbalizer,\n",
    "    cache_prompt_features_dir=None,\n",
    "    random_state=42,\n",
    "    hook_weights=avg_soft_prompt,\n",
    "    prompt_at_start_or_end='end',\n",
    "    prompt_template=\"{example}{prompt}\",\n",
    ")\n",
    "m.fit(dset_train[\"text\"], dset_train[\"label\"])"
   ]
  },
  {
   "cell_type": "code",
   "execution_count": 16,
   "metadata": {},
   "outputs": [
    {
     "data": {
      "text/plain": [
       "[0.56, 0.56, 0.56]"
      ]
     },
     "execution_count": 16,
     "metadata": {},
     "output_type": "execute_result"
    }
   ],
   "source": [
    "m.prompt_accs_"
   ]
  }
 ],
 "metadata": {
  "kernelspec": {
   "display_name": ".llm",
   "language": "python",
   "name": "python3"
  },
  "language_info": {
   "codemirror_mode": {
    "name": "ipython",
    "version": 3
   },
   "file_extension": ".py",
   "mimetype": "text/x-python",
   "name": "python",
   "nbconvert_exporter": "python",
   "pygments_lexer": "ipython3",
   "version": "3.11.5"
  },
  "orig_nbformat": 4,
  "vscode": {
   "interpreter": {
    "hash": "a9ff692d44ea03fd8a03facee7621117bbbb82def09bacaacf0a2cbc238b7b91"
   }
  }
 },
 "nbformat": 4,
 "nbformat_minor": 2
}
